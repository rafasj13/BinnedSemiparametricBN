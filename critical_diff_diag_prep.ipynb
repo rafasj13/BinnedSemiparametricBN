{
 "cells": [
  {
   "cell_type": "code",
   "execution_count": 92,
   "metadata": {},
   "outputs": [],
   "source": [
    "import pandas as pd \n",
    "import numpy as np\n",
    "import os \n",
    "import glob as glob\n",
    "import matplotlib.pyplot as plt"
   ]
  },
  {
   "cell_type": "markdown",
   "metadata": {},
   "source": [
    "#### Bergmann Hommens posthoc with Friedman 0.05"
   ]
  },
  {
   "cell_type": "code",
   "execution_count": 99,
   "metadata": {},
   "outputs": [
    {
     "data": {
      "text/html": [
       "<div>\n",
       "<style scoped>\n",
       "    .dataframe tbody tr th:only-of-type {\n",
       "        vertical-align: middle;\n",
       "    }\n",
       "\n",
       "    .dataframe tbody tr th {\n",
       "        vertical-align: top;\n",
       "    }\n",
       "\n",
       "    .dataframe thead th {\n",
       "        text-align: right;\n",
       "    }\n",
       "</style>\n",
       "<table border=\"1\" class=\"dataframe\">\n",
       "  <thead>\n",
       "    <tr style=\"text-align: right;\">\n",
       "      <th></th>\n",
       "      <th>BSBN</th>\n",
       "      <th>BSBN-Linear</th>\n",
       "      <th>SPBN</th>\n",
       "    </tr>\n",
       "  </thead>\n",
       "  <tbody>\n",
       "    <tr>\n",
       "      <th>BSBN</th>\n",
       "      <td>1.000000</td>\n",
       "      <td>0.354511</td>\n",
       "      <td>0.900524</td>\n",
       "    </tr>\n",
       "    <tr>\n",
       "      <th>BSBN-Linear</th>\n",
       "      <td>0.354511</td>\n",
       "      <td>1.000000</td>\n",
       "      <td>0.354511</td>\n",
       "    </tr>\n",
       "    <tr>\n",
       "      <th>SPBN</th>\n",
       "      <td>0.900524</td>\n",
       "      <td>0.354511</td>\n",
       "      <td>1.000000</td>\n",
       "    </tr>\n",
       "  </tbody>\n",
       "</table>\n",
       "</div>"
      ],
      "text/plain": [
       "                 BSBN  BSBN-Linear      SPBN\n",
       "BSBN         1.000000     0.354511  0.900524\n",
       "BSBN-Linear  0.354511     1.000000  0.354511\n",
       "SPBN         0.900524     0.354511  1.000000"
      ]
     },
     "execution_count": 99,
     "metadata": {},
     "output_type": "execute_result"
    }
   ],
   "source": [
    "path = 'critical_diff/all_S12/'\n",
    "metric = 'shd'\n",
    "bergmann_psthoc = pd.read_csv(path+f'{metric}_bergmann_hommel.csv', index_col = 0)\n",
    "bergmann_psthoc.fillna(1, inplace=True)\n",
    "cols = bergmann_psthoc.columns\n",
    "newcols = [col.replace('.','-') for col in cols]\n",
    "bergmann_psthoc.columns = newcols\n",
    "bergmann_psthoc.index = newcols\n",
    "bergmann_psthoc"
   ]
  },
  {
   "cell_type": "code",
   "execution_count": 100,
   "metadata": {},
   "outputs": [
    {
     "data": {
      "text/plain": [
       "BSBN-Linear    1.750000\n",
       "BSBN           2.109375\n",
       "SPBN           2.140625\n",
       "Name: average.ranking, dtype: float64"
      ]
     },
     "execution_count": 100,
     "metadata": {},
     "output_type": "execute_result"
    }
   ],
   "source": [
    "avg_rank = pd.read_csv(path+f'{metric}_avg_ranking.csv',index_col = 0)\n",
    "avg_rank.sort_values(by='average.ranking', inplace=True)\n",
    "avg_rank = avg_rank['average.ranking']\n",
    "index = avg_rank.index\n",
    "newindex = [col.replace('.','-') for col in index]\n",
    "avg_rank.index = newindex\n",
    "# avg_rank.index = newcols\n",
    "avg_rank"
   ]
  },
  {
   "cell_type": "code",
   "execution_count": 101,
   "metadata": {},
   "outputs": [
    {
     "name": "stderr",
     "output_type": "stream",
     "text": [
      "/tmp/ipykernel_24080/1939282499.py:10: UserWarning: This figure includes Axes that are not compatible with tight_layout, so results might be incorrect.\n",
      "  plt.tight_layout()\n",
      "/home/rsojo/anaconda3/envs/pybnesianFT/lib/python3.9/site-packages/numpy/core/fromnumeric.py:59: FutureWarning: 'Series.swapaxes' is deprecated and will be removed in a future version. Please use 'Series.transpose' instead.\n",
      "  return bound(*args, **kwds)\n",
      "/home/rsojo/anaconda3/envs/pybnesianFT/lib/python3.9/site-packages/scikit_posthocs/_plotting.py:546: UserWarning: You passed a edgecolor/edgecolors ('k') for an unfilled marker ('').  Matplotlib is ignoring the edgecolor in favor of the facecolor.  This behavior may change in the future.\n",
      "  ax.scatter(rank, 0, **{\"color\": curr_color, **marker_props})\n"
     ]
    },
    {
     "data": {
      "image/png": "[encoded data removed]",
      "text/plain": [
       "<Figure size 500x500 with 2 Axes>"
      ]
     },
     "metadata": {},
     "output_type": "display_data"
    },
    {
     "data": {
      "image/png": "[encoded data removed]",
      "text/plain": [
       "<Figure size 1000x200 with 1 Axes>"
      ]
     },
     "metadata": {},
     "output_type": "display_data"
    }
   ],
   "source": [
    "import scikit_posthocs as sp\n",
    "\n",
    "plt.figure(figsize=(5, 5))\n",
    "plt.title('Significance Heatmap')\n",
    "\n",
    "# Format: diagonal, non-significant, p<0.001, p<0.01, p<0.05\n",
    "cmap = ['1', '#414487ff', '#7ad151ff' , '#22a884ff','#2a788eff' ]\n",
    "heatmap_args = {'linewidths': 0.25, 'linecolor': '0.1', 'clip_on': False, 'square': True, 'cbar_ax_bbox': [0.96, 0.35, 0.04, 0.3], 'cmap': cmap}\n",
    "sp.sign_plot(bergmann_psthoc, **heatmap_args)\n",
    "plt.tight_layout()\n",
    "plt.savefig(path+f'{metric}_significanceHM.pdf',format='pdf', bbox_inches=\"tight\")\n",
    "\n",
    "plt.figure(figsize=(10, 2), dpi=100)\n",
    "# plt.title('Critical difference diagram of average score ranks')\n",
    "sp.critical_difference_diagram(avg_rank, \n",
    "                               bergmann_psthoc,\n",
    "                               text_h_margin=0.1,\n",
    "                               label_props={'color': 'black', 'fontweight': None},\n",
    "                                crossbar_props={'color': 'black', 'marker': None},\n",
    "                                marker_props={'marker': '', 's': 50, 'color': 'k', 'edgecolor': 'k'},\n",
    "                                elbow_props={'color': '#3a3b3c'},)\n",
    "plt.tight_layout()\n",
    "plt.savefig(path+f'{metric}_CDD_bergmann.pdf',format='pdf', bbox_inches=\"tight\")"
   ]
  }
 ],
 "metadata": {
  "kernelspec": {
   "display_name": "pybnesianFT",
   "language": "python",
   "name": "python3"
  },
  "language_info": {
   "codemirror_mode": {
    "name": "ipython",
    "version": 3
   },
   "file_extension": ".py",
   "mimetype": "text/x-python",
   "name": "python",
   "nbconvert_exporter": "python",
   "pygments_lexer": "ipython3",
   "version": "3.9.19"
  }
 },
 "nbformat": 4,
 "nbformat_minor": 2
}
